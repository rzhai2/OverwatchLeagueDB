{
 "cells": [
  {
   "cell_type": "code",
   "execution_count": null,
   "metadata": {},
   "outputs": [],
   "source": [
    "import pandas as pd\n",
    "import numpy as np\n",
    "import MySQLdb\n",
    "import time, socket, sys, os\n",
    "from datetime import datetime"
   ]
  },
  {
   "cell_type": "code",
   "execution_count": null,
   "metadata": {},
   "outputs": [],
   "source": [
    "def view_table(name):\n",
    "    cursor.execute(f\"SELECT * FROM {name}\")\n",
    "    myresult = cursor.fetchall()\n",
    "    for x in myresult:\n",
    "        print(x)"
   ]
  },
  {
   "cell_type": "markdown",
   "metadata": {},
   "source": [
    "### Import Player"
   ]
  },
  {
   "cell_type": "code",
   "execution_count": null,
   "metadata": {},
   "outputs": [],
   "source": [
    "df = pd.read_csv(\"player_info.csv\", index_col=0, header=0)\n",
    "df = df.replace(np.nan, '', regex=True)"
   ]
  },
  {
   "cell_type": "code",
   "execution_count": null,
   "metadata": {},
   "outputs": [],
   "source": [
    "database = MySQLdb.connect(host=\"dbase.cs.jhu.edu\", user=\"20fa_rzhai2\", passwd=\"AgadM8or\", db=\"20fa_rzhai2_db\")\n",
    "cursor = database.cursor()\n",
    "query = \"INSERT INTO Player(RealName, Birthday, Country, Status, Team, Earning, Role, SignatureHero, PlayerName) VALUES (%s, %s, %s, %s, %s, %s, %s, %s, %s)\""
   ]
  },
  {
   "cell_type": "code",
   "execution_count": null,
   "metadata": {},
   "outputs": [],
   "source": [
    "def rebuild_Player_table():\n",
    "    cursor.execute(\"DROP TABLE Player\")\n",
    "    definition = (f\"CREATE TABLE Player (RealName VARCHAR(30),Birthday VARCHAR(20),Country VARCHAR(40),\" \n",
    "                 f\"Status VARCHAR(10),\"\n",
    "                 f\"Team VARCHAR(30),Earning VARCHAR(20),Role VARCHAR(30),SignatureHero VARCHAR(70),\" \n",
    "                 f\"PlayerName VARCHAR(50)  Primary Key)\")\n",
    "    cursor.execute(definition)"
   ]
  },
  {
   "cell_type": "code",
   "execution_count": null,
   "metadata": {},
   "outputs": [],
   "source": [
    "#cursor.execute(\"TRUNCATE TABLE Player\")\n",
    "for row in df.itertuples():\n",
    "    cursor.execute(query,\n",
    "                (row._1, f\"{row.Birth} 00:00:00\", row.Country.strip(), row.Status, row.Team, row._6, row._7, row._8, row._9))\n",
    "print(f\"{len(list(df.itertuples()))} entries inserted\")\n",
    "database.commit()\n",
    "cursor.close()\n",
    "database.close()"
   ]
  },
  {
   "cell_type": "markdown",
   "metadata": {},
   "source": [
    "### Import Team"
   ]
  },
  {
   "cell_type": "code",
   "execution_count": null,
   "metadata": {},
   "outputs": [],
   "source": [
    "df = pd.read_csv(\"team_info.csv\", index_col=0, header=0)\n",
    "df = df.replace(np.nan, '', regex=True)\n",
    "list(df.itertuples())[0]"
   ]
  },
  {
   "cell_type": "code",
   "execution_count": null,
   "metadata": {},
   "outputs": [],
   "source": [
    "database = MySQLdb.connect(host=\"dbase.cs.jhu.edu\", user=\"20fa_rzhai2\", passwd=\"AgadM8or\", db=\"20fa_rzhai2_db\")\n",
    "cursor = database.cursor()\n",
    "query = \"INSERT INTO Team(City, Country, TeamName) VALUES (%s, %s, %s)\""
   ]
  },
  {
   "cell_type": "code",
   "execution_count": null,
   "metadata": {},
   "outputs": [],
   "source": [
    "#cursor.execute(\"TRUNCATE TABLE Team\")\n",
    "for row in df.itertuples():\n",
    "    cursor.execute(query,\n",
    "                (row._1.strip(), row.Location.strip(), row._3.strip()))\n",
    "print(f\"{len(list(df.itertuples()))} entries inserted\")\n",
    "database.commit()\n",
    "cursor.close()\n",
    "database.close()"
   ]
  },
  {
   "cell_type": "markdown",
   "metadata": {},
   "source": [
    "### Import ServesIn"
   ]
  },
  {
   "cell_type": "code",
   "execution_count": null,
   "metadata": {},
   "outputs": [],
   "source": [
    "df = pd.read_csv(\"player_history.csv\", index_col=0, header=0)\n",
    "df = df.replace(np.nan, '', regex=True)\n",
    "list(df.itertuples())[0]"
   ]
  },
  {
   "cell_type": "code",
   "execution_count": null,
   "metadata": {},
   "outputs": [],
   "source": [
    "database = MySQLdb.connect(host=\"dbase.cs.jhu.edu\", user=\"20fa_rzhai2\", passwd=\"AgadM8or\", db=\"20fa_rzhai2_db\")\n",
    "cursor = database.cursor()\n",
    "query = \"INSERT INTO ServesIn(PlayerName, StartDate, EndDate, TeamName) VALUES (%s, %s, %s, %s)\""
   ]
  },
  {
   "cell_type": "code",
   "execution_count": null,
   "metadata": {},
   "outputs": [],
   "source": [
    "def rebuild_ServesIn_table():\n",
    "    cursor.execute(\"DROP TABLE ServesIn\")\n",
    "    definition = (f\"CREATE TABLE ServesIn(PlayerName VARCHAR(50), StartDate DATE,\" \n",
    "                 f\"EndDate DATE, TeamName VARCHAR(50), PRIMARY KEY (PlayerName, Startdate, EndDate, TeamName))\")\n",
    "    cursor.execute(definition)\n",
    "    print(\"Re-built\")\n",
    "    \n",
    "#rebuild_ServesIn_table()"
   ]
  },
  {
   "cell_type": "code",
   "execution_count": null,
   "metadata": {},
   "outputs": [],
   "source": [
    "#cursor.execute(\"TRUNCATE TABLE ServesIn\")\n",
    "for row in df.itertuples():\n",
    "    start = row.start_time.replace('?', '0') \n",
    "    start = \"\" if start.replace('0', '') == '' else start\n",
    "    end   = row.end_time.replace('?', '0') \n",
    "    end   = \"\" if end.replace('0', '') == '' else end\n",
    "    if row.end_time.lower().strip() == 'present':\n",
    "        end = datetime.utcnow().strftime('%Y-%m-%d')\n",
    "    cursor.execute(query,\n",
    "                (row._1.strip(), f\"{start} 00:00:00\", f\"{end} 00:00:00\", row.Team.strip()))\n",
    "    \n",
    "print(f\"{len(list(df.itertuples()))} entries inserted\")\n",
    "#view_table(\"ServesIn\")\n",
    "database.commit()\n",
    "cursor.close()\n",
    "database.close()"
   ]
  },
  {
   "cell_type": "markdown",
   "metadata": {},
   "source": [
    "### Import Match_Map_Stats"
   ]
  },
  {
   "cell_type": "code",
   "execution_count": null,
   "metadata": {},
   "outputs": [],
   "source": [
    "df = pd.read_csv(\"match_map_stats.csv\", index_col=None, header=0)\n",
    "df = df.replace(np.nan, -1, regex=True)\n",
    "print(df.shape)\n",
    "df = df.drop_duplicates(subset=['round_start_time', 'round_end_time', 'stage', 'match_id'])\n",
    "print(df.shape)"
   ]
  },
  {
   "cell_type": "code",
   "execution_count": null,
   "metadata": {},
   "outputs": [],
   "source": [
    "database = MySQLdb.connect(host=\"dbase.cs.jhu.edu\", user=\"20fa_rzhai2\", passwd=\"AgadM8or\", db=\"20fa_rzhai2_db\")\n",
    "cursor = database.cursor()\n",
    "query = (f\"INSERT INTO MatchMapStats(round_start_time, round_end_time, stage, match_id, \"\n",
    "         f\"game_number, match_winner, map_winner, map_loser, map_name, \"\n",
    "         f\"map_round, winning_team_final_map_score, losing_team_final_map_score, \"\n",
    "         f\"control_round_name, attacker, defender, team_one_name, team_two_name, \"\n",
    "         f\"attacker_payload_distance, defender_payload_distance, attacker_time_banked, \"\n",
    "         f\"defender_time_banked, attacker_control_perecent, defender_control_perecent, \"\n",
    "         f\"attacker_round_end_score, defender_round_end_score)\"\n",
    "         f\" VALUES (%s, %s, %s, %s, \"\n",
    "         f\"%s, %s, %s, %s, %s, %s, %s, %s, \"\n",
    "         f\"%s, %s, %s, %s, %s, %s, %s, %s, \"\n",
    "         f\"%s, %s, %s, %s, %s)\")"
   ]
  },
  {
   "cell_type": "code",
   "execution_count": null,
   "metadata": {},
   "outputs": [],
   "source": [
    "def rebuild_MatchMapStats_table():\n",
    "    cursor.execute(\"DROP TABLE MatchMapStats\")\n",
    "    definition = (f\"CREATE TABLE MatchMapStats(round_start_time DATETIME, round_end_time DATETIME, stage VARCHAR(50),\"\n",
    "                  f\"match_id MEDIUMINT(10), game_number TINYINT(10), match_winner VARCHAR(22), map_winner VARCHAR(22),\"\n",
    "                  f\"map_loser VARCHAR(22), map_name VARCHAR(25), map_round TINYINT(10),\"\n",
    "                  f\"winning_team_final_map_score TINYINT(10), losing_team_final_map_score TINYINT(10),\"\n",
    "                  f\"control_round_name VARCHAR(25), attacker VARCHAR(22), defender VARCHAR(22),\"\n",
    "                  f\"team_one_name VARCHAR(22), team_two_name VARCHAR(22), attacker_payload_distance FLOAT(40, 20),\"\n",
    "                  f\"defender_payload_distance FLOAT(28, 20), attacker_time_banked FLOAT(28, 20),\"\n",
    "                  f\"defender_time_banked FLOAT(28, 20), attacker_control_perecent FLOAT(28, 20),\"\n",
    "                  f\"defender_control_perecent FLOAT(28, 20), attacker_round_end_score TINYINT(10),\"\n",
    "                  f\"defender_round_end_score TINYINT(10), PRIMARY KEY (round_start_time, round_end_time, stage, match_id))\")\n",
    "    cursor.execute(definition)\n",
    "    print(\"Re-built\")\n",
    "    \n",
    "#rebuild_MatchMapStats_table()"
   ]
  },
  {
   "cell_type": "code",
   "execution_count": 1,
   "metadata": {},
   "outputs": [
    {
     "ename": "NameError",
     "evalue": "name 'df' is not defined",
     "output_type": "error",
     "traceback": [
      "\u001b[1;31m---------------------------------------------------------------------------\u001b[0m",
      "\u001b[1;31mNameError\u001b[0m                                 Traceback (most recent call last)",
      "\u001b[1;32m<ipython-input-1-8c917a17c3c4>\u001b[0m in \u001b[0;36m<module>\u001b[1;34m\u001b[0m\n\u001b[0;32m      1\u001b[0m \u001b[1;31m#cursor.execute(\"TRUNCATE TABLE MatchMapStats\")\u001b[0m\u001b[1;33m\u001b[0m\u001b[1;33m\u001b[0m\u001b[1;33m\u001b[0m\u001b[0m\n\u001b[0;32m      2\u001b[0m \u001b[0mc\u001b[0m \u001b[1;33m=\u001b[0m \u001b[1;36m0\u001b[0m\u001b[1;33m\u001b[0m\u001b[1;33m\u001b[0m\u001b[0m\n\u001b[1;32m----> 3\u001b[1;33m \u001b[1;32mfor\u001b[0m \u001b[0mrow\u001b[0m \u001b[1;32min\u001b[0m \u001b[0mdf\u001b[0m\u001b[1;33m.\u001b[0m\u001b[0mitertuples\u001b[0m\u001b[1;33m(\u001b[0m\u001b[1;33m)\u001b[0m\u001b[1;33m:\u001b[0m\u001b[1;33m\u001b[0m\u001b[1;33m\u001b[0m\u001b[0m\n\u001b[0m\u001b[0;32m      4\u001b[0m     \u001b[1;32mif\u001b[0m \u001b[0mc\u001b[0m \u001b[1;33m%\u001b[0m \u001b[1;36m100\u001b[0m \u001b[1;33m==\u001b[0m \u001b[1;36m0\u001b[0m\u001b[1;33m:\u001b[0m\u001b[1;33m\u001b[0m\u001b[1;33m\u001b[0m\u001b[0m\n\u001b[0;32m      5\u001b[0m         \u001b[0mprint\u001b[0m\u001b[1;33m(\u001b[0m\u001b[0mc\u001b[0m\u001b[1;33m)\u001b[0m\u001b[1;33m\u001b[0m\u001b[1;33m\u001b[0m\u001b[0m\n",
      "\u001b[1;31mNameError\u001b[0m: name 'df' is not defined"
     ]
    }
   ],
   "source": [
    "#cursor.execute(\"TRUNCATE TABLE MatchMapStats\")\n",
    "c = 0\n",
    "for row in df.itertuples():\n",
    "    if c % 100 == 0:\n",
    "        print(c)\n",
    "    round_start_time = '0000-00-00 00:00:00' if row.round_start_time == -1 else row.round_start_time\n",
    "    round_end_time = '0000-00-00 00:00:00' if row.round_end_time == -1 else row.round_end_time     \n",
    "        \n",
    "    values = (round_start_time, round_end_time, row.stage, row.match_id, \n",
    "              row.game_number, row.match_winner, row.map_winner, row.map_loser, row.map_name,\n",
    "              row.map_round, row.winning_team_final_map_score, row.losing_team_final_map_score,\n",
    "              row.control_round_name, row.attacker, row.defender, row.team_one_name, row.team_two_name,\n",
    "              row.attacker_payload_distance, row.defender_payload_distance, row.attacker_time_banked,\n",
    "              row.defender_time_banked, row.attacker_control_perecent, row.defender_control_perecent,\n",
    "              row.attacker_round_end_score, row.defender_round_end_score)\n",
    "    cursor.execute(query, values)\n",
    "    c += 1\n",
    "    \n",
    "print(f\"{len(list(df.itertuples()))} entries inserted\")\n",
    "view_table(\"MatchMapStats\")\n",
    "database.commit()\n",
    "cursor.close()\n",
    "database.close()"
   ]
  },
  {
   "cell_type": "markdown",
   "metadata": {},
   "source": [
    "### Import GameInfo"
   ]
  },
  {
   "cell_type": "code",
   "execution_count": null,
   "metadata": {},
   "outputs": [],
   "source": [
    "r = []\n",
    "for i in [2020]:\n",
    "    basedir = os.path.join(os.getcwd(), f'phs_{i}', '')\n",
    "    for f in os.listdir(basedir):\n",
    "        df = pd.read_csv(basedir + f, )\n",
    "        df = df.drop_duplicates(subset=[\"esports_match_id\", \"map_name\", \"player_name\", \"hero_name\", \"stat_name\"])\n",
    "        #df = df.drop_duplicates()\n",
    "        if len(r) == 0:\n",
    "            r = df\n",
    "        else:\n",
    "            r = pd.concat([r, df])\n",
    "            r = r.drop_duplicates(subset=[\"esports_match_id\", \"map_name\", \"player_name\", \"hero_name\", \"stat_name\"])\n",
    "\n"
   ]
  },
  {
   "cell_type": "code",
   "execution_count": null,
   "metadata": {},
   "outputs": [],
   "source": [
    "r.shape"
   ]
  },
  {
   "cell_type": "code",
   "execution_count": null,
   "metadata": {},
   "outputs": [],
   "source": [
    "r = r.replace(np.nan, -1, regex=True)"
   ]
  },
  {
   "cell_type": "code",
   "execution_count": null,
   "metadata": {},
   "outputs": [],
   "source": [
    "database = MySQLdb.connect(host=\"dbase.cs.jhu.edu\", user=\"20fa_rzhai2\", passwd=\"AgadM8or\", db=\"20fa_rzhai2_db\")\n",
    "cursor = database.cursor()\n",
    "query = (f\"INSERT INTO 2020Stats(start_time, esports_match_id,\"\n",
    "         f\" tournament_title, map_type, map_name, player_name,\"\n",
    "         f\" team_name, stat_name, hero_name, stat_amount)\"\n",
    "         f\" VALUES\"\n",
    "         f\" (%s, %s, %s, %s, \"\n",
    "         f\" %s, %s, %s, %s, %s, %s)\")"
   ]
  },
  {
   "cell_type": "code",
   "execution_count": null,
   "metadata": {},
   "outputs": [],
   "source": [
    "def rebuild_2020_table():\n",
    "    #cursor.execute(\"DROP TABLE 2020Stats\")\n",
    "    definition = (f\"CREATE TABLE 2020Stats(start_time DATETIME, esports_match_id MEDIUMINT(10),\"\n",
    "                  f\" tournament_title VARCHAR(24), \"\n",
    "                  f\" map_type VARCHAR(8), map_name VARCHAR(22), player_name VARCHAR(11),\"\n",
    "                  f\" team_name VARCHAR(23), stat_name VARCHAR(42),\"\n",
    "                  f\"hero_name VARCHAR(13), stat_amount FLOAT(30, 20),\"\n",
    "                  f\" PRIMARY KEY (esports_match_id, map_name, player_name, hero_name, stat_name))\")\n",
    "    cursor.execute(definition)\n",
    "    print(\"Re-built\")\n",
    "    \n",
    "#rebuild_2020_table()"
   ]
  },
  {
   "cell_type": "code",
   "execution_count": null,
   "metadata": {},
   "outputs": [],
   "source": [
    "#cursor.execute(\"TRUNCATE TABLE 2020Stats\")\n",
    "c = 0\n",
    "m = list(r.itertuples())"
   ]
  },
  {
   "cell_type": "code",
   "execution_count": null,
   "metadata": {},
   "outputs": [],
   "source": [
    "for idx in range(c, len(m)):\n",
    "    row = m[idx]\n",
    "    if c % 5000 == 0:\n",
    "        print(c)\n",
    "    tmp = row.start_time.split(' ')\n",
    "    \"\"\" For first part of csv \"\"\"\n",
    "    #date = tmp[0].split('/')\n",
    "    #start_t = '-'.join([date[2], date[0], date[1]]) + \" \" + tmp[1]\n",
    "    \"\"\" For second part of csv \"\"\"\n",
    "    start_t = row.start_time\n",
    "    \n",
    "    values = (start_t, row.esports_match_id,row.tournament_title,\n",
    "              row.map_type,row.map_name,row.player_name,row.team_name,\n",
    "              row.stat_name,row.hero_name,row.stat_amount)\n",
    "    cursor.execute(query, values)\n",
    "    c += 1\n",
    "    \n",
    "print(f\"{len(list(df.itertuples()))} entries inserted\")\n",
    "view_table(\"2020Stats\")\n",
    "database.commit()\n",
    "cursor.close()\n",
    "database.close()"
   ]
  },
  {
   "cell_type": "code",
   "execution_count": null,
   "metadata": {},
   "outputs": [],
   "source": [
    "# To Check how many entries ran\n",
    "c"
   ]
  },
  {
   "cell_type": "code",
   "execution_count": null,
   "metadata": {},
   "outputs": [],
   "source": [
    "# To see how many entries exist in 2020Stats Table\n",
    "database = MySQLdb.connect(host=\"dbase.cs.jhu.edu\", user=\"20fa_rzhai2\", passwd=\"AgadM8or\", db=\"20fa_rzhai2_db\")\n",
    "cursor = database.cursor()\n",
    "\n",
    "cursor.execute(f\"SELECT * FROM 2020Stats\")\n",
    "myresult = cursor.fetchall()\n",
    "print(len(list(myresult)))"
   ]
  }
 ],
 "metadata": {
  "kernelspec": {
   "display_name": "tf2",
   "language": "python",
   "name": "tf2"
  },
  "language_info": {
   "codemirror_mode": {
    "name": "ipython",
    "version": 3
   },
   "file_extension": ".py",
   "mimetype": "text/x-python",
   "name": "python",
   "nbconvert_exporter": "python",
   "pygments_lexer": "ipython3",
   "version": "3.6.10"
  }
 },
 "nbformat": 4,
 "nbformat_minor": 4
}
